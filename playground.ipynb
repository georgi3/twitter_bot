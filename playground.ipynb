{
 "cells": [
  {
   "cell_type": "code",
   "execution_count": 1,
   "outputs": [],
   "source": [
    "from config import API_KEY, API_SECRET_KEY, BEARER_TOKEN, ACCESS_TOKEN, ACCESS_TOKEN_SECRET, EXCEPTIONS, SCREEN_NAME\n",
    "import tweepy\n",
    "import time"
   ],
   "metadata": {
    "collapsed": false,
    "pycharm": {
     "name": "#%%\n"
    }
   }
  },
  {
   "cell_type": "code",
   "execution_count": 102,
   "outputs": [],
   "source": [
    "def connect():\n",
    "    \"\"\"Setting up the api connection\"\"\"\n",
    "    auth = tweepy.OAuthHandler(API_KEY, API_SECRET_KEY)\n",
    "    auth.set_access_token(ACCESS_TOKEN, ACCESS_TOKEN_SECRET)  # Read&Write Permissions\n",
    "    return tweepy.API(auth)"
   ],
   "metadata": {
    "collapsed": false,
    "pycharm": {
     "name": "#%%\n"
    }
   }
  },
  {
   "cell_type": "code",
   "execution_count": 103,
   "outputs": [],
   "source": [
    "def connection_verified(api):\n",
    "    \"\"\"Verifying twitter api connection\"\"\"\n",
    "    print('Verifying connection..')\n",
    "    try:\n",
    "        api.verify_credentials()\n",
    "        print('Verified')\n",
    "        return True\n",
    "    except:\n",
    "        print('Not Verified...')\n",
    "        return False"
   ],
   "metadata": {
    "collapsed": false,
    "pycharm": {
     "name": "#%%\n"
    }
   }
  },
  {
   "cell_type": "code",
   "execution_count": 104,
   "outputs": [],
   "source": [
    "def get_followers_ids(handle, api):\n",
    "    \"\"\"Returns all the followers\"\"\"\n",
    "    print('Getting followers\\' ids')\n",
    "    followers_iter = tweepy.Cursor(api.get_follower_ids, screen_name=handle).items()\n",
    "    followers = set()\n",
    "    while 1:\n",
    "        try:\n",
    "            user_id = next(followers_iter)\n",
    "            followers.add(user_id)\n",
    "            time.sleep(5)\n",
    "        except tweepy.TweepyException as err:\n",
    "            print(f'Exception occurred: {err}')\n",
    "            time.sleep(60*15)\n",
    "            continue\n",
    "        except StopIteration:\n",
    "            print('All the followers are extracted.')\n",
    "            break\n",
    "    return followers"
   ],
   "metadata": {
    "collapsed": false,
    "pycharm": {
     "name": "#%%\n"
    }
   }
  },
  {
   "cell_type": "code",
   "execution_count": 105,
   "outputs": [],
   "source": [
    "def get_following(handle, api):\n",
    "    print(\"Getting following's ids\")\n",
    "    following_iter = tweepy.Cursor(api.get_friends, screen_name=handle).items()\n",
    "    while True:\n",
    "        try:\n",
    "            user = next(following_iter)\n",
    "            yield user\n",
    "        except tweepy.TweepyException as err:\n",
    "            print(f'Exception occurred: {err}')\n",
    "            time.sleep(60*15)\n",
    "            continue\n",
    "        except StopIteration:\n",
    "            print('Iterator is exhausted...')\n",
    "            break"
   ],
   "metadata": {
    "collapsed": false,
    "pycharm": {
     "name": "#%%\n"
    }
   }
  },
  {
   "cell_type": "code",
   "execution_count": 106,
   "outputs": [],
   "source": [
    "def get_exceptions_ids(exceptions, api):\n",
    "    \"\"\"Returns set of followers who might not follow you back, but you still would like to follow them\"\"\"\n",
    "    exceptions_ids = set()\n",
    "    for handle in exceptions:\n",
    "        user = api.get_user(screen_name=handle)\n",
    "        exceptions_ids.add(user.id)\n",
    "    return exceptions_ids"
   ],
   "metadata": {
    "collapsed": false,
    "pycharm": {
     "name": "#%%\n"
    }
   }
  },
  {
   "cell_type": "code",
   "execution_count": 107,
   "outputs": [],
   "source": [
    "def our_friends(handle, exceptions, api):\n",
    "    followers_ids = get_followers_ids(handle, api)\n",
    "    exceptions_ids = get_exceptions_ids(exceptions, api)\n",
    "    return followers_ids.union(exceptions_ids)"
   ],
   "metadata": {
    "collapsed": false,
    "pycharm": {
     "name": "#%%\n"
    }
   }
  },
  {
   "cell_type": "code",
   "execution_count": 108,
   "outputs": [],
   "source": [
    "def is_loser(handle, friends, api):\n",
    "    \"\"\"Checks if retrieved user is in our friend list, if user is not it yields user's id and name.\"\"\"\n",
    "    losers = get_following(handle, api)\n",
    "    try:\n",
    "        loser = next(losers)\n",
    "        if loser.id not in friends:\n",
    "            print(f'Detected loser to unfollow {loser.name}')\n",
    "            return loser\n",
    "        else:\n",
    "            return False\n",
    "    except StopIteration:\n",
    "        print('Looped through users.')\n",
    "        return False"
   ],
   "metadata": {
    "collapsed": false,
    "pycharm": {
     "name": "#%%\n"
    }
   }
  },
  {
   "cell_type": "code",
   "execution_count": 109,
   "outputs": [],
   "source": [
    "def unfollow_losers(handle, exceptions, api):\n",
    "    \"\"\"Unfollows users who do not follow you back except people who you want to keep following\n",
    "    -handle: your twitter handle\n",
    "    -exceptions: users who you want to keep following\n",
    "    :return the dict of users who were unfollowed\n",
    "    \"\"\"\n",
    "    friends = our_friends(handle, exceptions, api)\n",
    "    unfollow_dict = {}\n",
    "    while True:\n",
    "        try:\n",
    "            loser = is_loser(handle, friends, api)\n",
    "            if not loser:\n",
    "                time.sleep(10)\n",
    "                continue\n",
    "            else:\n",
    "                loser.unfollow()\n",
    "                unfollow_dict[loser.id] = loser.name\n",
    "                print(f'{loser.name} is unfollowed.')\n",
    "                time.sleep(10)\n",
    "        except tweepy.TweepyException as err:\n",
    "            print(f'Exception occurred: {err}')\n",
    "        except StopIteration:\n",
    "            print('Process finished.')\n",
    "            print(f'Following list has been cleaned.')\n",
    "        finally:\n",
    "            print(f'{len(unfollow_dict)} has been unfollowed.')\n",
    "            return unfollow_dict"
   ],
   "metadata": {
    "collapsed": false,
    "pycharm": {
     "name": "#%%\n"
    }
   }
  },
  {
   "cell_type": "code",
   "execution_count": 110,
   "outputs": [],
   "source": [
    "def main():\n",
    "    api = connect()\n",
    "    if not connection_verified(api):\n",
    "        return False\n",
    "    unfollowed = unfollow_losers(SCREEN_NAME, EXCEPTIONS, api)\n",
    "    return unfollowed"
   ],
   "metadata": {
    "collapsed": false,
    "pycharm": {
     "name": "#%%\n"
    }
   }
  },
  {
   "cell_type": "code",
   "execution_count": 111,
   "outputs": [],
   "source": [
    "# main()"
   ],
   "metadata": {
    "collapsed": false,
    "pycharm": {
     "name": "#%%\n"
    }
   }
  },
  {
   "cell_type": "code",
   "execution_count": null,
   "outputs": [],
   "source": [],
   "metadata": {
    "collapsed": false,
    "pycharm": {
     "name": "#%%\n"
    }
   }
  },
  {
   "cell_type": "code",
   "execution_count": null,
   "outputs": [],
   "source": [],
   "metadata": {
    "collapsed": false,
    "pycharm": {
     "name": "#%%\n"
    }
   }
  }
 ],
 "metadata": {
  "kernelspec": {
   "display_name": "Python 3",
   "language": "python",
   "name": "python3"
  },
  "language_info": {
   "codemirror_mode": {
    "name": "ipython",
    "version": 2
   },
   "file_extension": ".py",
   "mimetype": "text/x-python",
   "name": "python",
   "nbconvert_exporter": "python",
   "pygments_lexer": "ipython2",
   "version": "2.7.6"
  }
 },
 "nbformat": 4,
 "nbformat_minor": 0
}