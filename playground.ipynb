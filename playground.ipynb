{
 "cells": [
  {
   "cell_type": "code",
   "execution_count": 420,
   "outputs": [],
   "source": [
    "from config import API_KEY, API_SECRET_KEY, BEARER_TOKEN, ACCESS_TOKEN, ACCESS_TOKEN_SECRET\n",
    "from local_settings import SCREEN_NAME, TARGET_WORDS, TARGET_AUDIENCE, COMMENT_POOL\n",
    "import tweepy\n",
    "import time\n",
    "import datetime\n",
    "import random\n",
    "import calendar"
   ],
   "metadata": {
    "collapsed": false,
    "pycharm": {
     "name": "#%%\n"
    }
   }
  },
  {
   "cell_type": "code",
   "execution_count": 421,
   "outputs": [],
   "source": [
    "def connect():\n",
    "    \"\"\"Setting up the api connection\"\"\"\n",
    "    auth = tweepy.OAuthHandler(API_KEY, API_SECRET_KEY)\n",
    "    auth.set_access_token(ACCESS_TOKEN, ACCESS_TOKEN_SECRET)  # Read&Write Permissions\n",
    "    return tweepy.API(auth)"
   ],
   "metadata": {
    "collapsed": false,
    "pycharm": {
     "name": "#%%\n"
    }
   }
  },
  {
   "cell_type": "code",
   "execution_count": 422,
   "outputs": [],
   "source": [
    "def connection_verified(api):\n",
    "    \"\"\"Verifying twitter api connection\"\"\"\n",
    "    print('Verifying connection..')\n",
    "    try:\n",
    "        api.verify_credentials()\n",
    "        print('Verified')\n",
    "        return True\n",
    "    except:\n",
    "        print('Not Verified...')\n",
    "        return False"
   ],
   "metadata": {
    "collapsed": false,
    "pycharm": {
     "name": "#%%\n"
    }
   }
  },
  {
   "cell_type": "code",
   "execution_count": 423,
   "outputs": [],
   "source": [
    "def main():\n",
    "    api = connect()\n",
    "    if not connection_verified(api):\n",
    "        return False\n",
    "    return None"
   ],
   "metadata": {
    "collapsed": false,
    "pycharm": {
     "name": "#%%\n"
    }
   }
  },
  {
   "cell_type": "code",
   "execution_count": 419,
   "outputs": [],
   "source": [
    "# ____ = main()"
   ],
   "metadata": {
    "collapsed": false,
    "pycharm": {
     "name": "#%%\n"
    }
   }
  },
  {
   "cell_type": "code",
   "execution_count": null,
   "outputs": [],
   "source": [],
   "metadata": {
    "collapsed": false,
    "pycharm": {
     "name": "#%%\n"
    }
   }
  }
 ],
 "metadata": {
  "kernelspec": {
   "display_name": "Python 3",
   "language": "python",
   "name": "python3"
  },
  "language_info": {
   "codemirror_mode": {
    "name": "ipython",
    "version": 2
   },
   "file_extension": ".py",
   "mimetype": "text/x-python",
   "name": "python",
   "nbconvert_exporter": "python",
   "pygments_lexer": "ipython2",
   "version": "2.7.6"
  }
 },
 "nbformat": 4,
 "nbformat_minor": 0
}